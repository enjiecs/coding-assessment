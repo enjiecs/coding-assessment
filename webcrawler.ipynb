{
 "cells": [
  {
   "cell_type": "code",
   "execution_count": 2,
   "metadata": {},
   "outputs": [
    {
     "name": "stdout",
     "output_type": "stream",
     "text": [
      "['Microsoft', 'to', 'and']\n"
     ]
    }
   ],
   "source": [
    "import requests\n",
    "from lxml import html\n",
    "import re\n",
    "import heapq\n",
    "def cralwer(excludeWords, k):\n",
    "    page = requests.get(\"https://en.wikipedia.org/wiki/Microsoft\")\n",
    "    tree = html.fromstring(page.text)\n",
    "\n",
    "    contents = []\n",
    "    for i in range(7,32):\n",
    "        contents.append(tree.xpath('//*[@id=\"mw-content-text\"]/div[1]/p[' + str(i) + ']/text()'))\n",
    "        contents.append(tree.xpath('//*[@id=\"mw-content-text\"]/div[1]/p[' + str(i) + ']/a/text()'))\n",
    "    words = []\n",
    "    for strings in contents:\n",
    "        for string in strings:\n",
    "            wordlist = string.split()\n",
    "            for word in wordlist:\n",
    "                if word not in ['.','?',','] and word not in excludeWords:\n",
    "                    words.append(word)\n",
    "\n",
    "    hashmap = {}\n",
    "    for word in words:\n",
    "        if word not in hashmap:\n",
    "            hashmap[word] = 1\n",
    "        else:\n",
    "            hashmap[word] += 1\n",
    "\n",
    "    maxheap = []\n",
    "    heapq.heapify(maxheap)\n",
    "\n",
    "    for key, value in hashmap.items():\n",
    "        heapq.heappush(maxheap, (-value, key))\n",
    "\n",
    "    noOfReturn = 0;\n",
    "    res = []\n",
    "    while noOfReturn < k:\n",
    "        res.append(heapq.heappop(maxheap)[1])\n",
    "        noOfReturn += 1\n",
    "    return res\n",
    "\n",
    "print(cralwer(['the'],3))\n"
   ]
  },
  {
   "cell_type": "code",
   "execution_count": null,
   "metadata": {},
   "outputs": [],
   "source": []
  }
 ],
 "metadata": {
  "kernelspec": {
   "display_name": "Python 3",
   "language": "python",
   "name": "python3"
  },
  "language_info": {
   "codemirror_mode": {
    "name": "ipython",
    "version": 3
   },
   "file_extension": ".py",
   "mimetype": "text/x-python",
   "name": "python",
   "nbconvert_exporter": "python",
   "pygments_lexer": "ipython3",
   "version": "3.7.1"
  }
 },
 "nbformat": 4,
 "nbformat_minor": 2
}
